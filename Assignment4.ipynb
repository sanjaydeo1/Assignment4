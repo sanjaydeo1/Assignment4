{
 "cells": [
  {
   "cell_type": "markdown",
   "metadata": {},
   "source": [
    "#### Build a two-layer neural network from scratch In python"
   ]
  },
  {
   "cell_type": "markdown",
   "metadata": {},
   "source": [
    "Importing Dependencies for Loading MNIST dataset."
   ]
  },
  {
   "cell_type": "code",
   "execution_count": 1,
   "metadata": {},
   "outputs": [],
   "source": [
    "from mnist import MNIST\n",
    "import numpy as np\n",
    "import pandas as pd"
   ]
  },
  {
   "cell_type": "code",
   "execution_count": 2,
   "metadata": {
    "scrolled": true
   },
   "outputs": [],
   "source": [
    "mndata = MNIST('samples')\n",
    "images, labels = mndata.load_training()\n",
    "images1, labels1 = mndata.load_testing()"
   ]
  },
  {
   "cell_type": "code",
   "execution_count": 3,
   "metadata": {},
   "outputs": [],
   "source": [
    "#Converting list into numpy arrays\n",
    "train_x=np.array(images)\n",
    "train_y=np.array(labels)\n",
    "test_x=np.array(images1)\n",
    "test_y=np.array(labels1)"
   ]
  },
  {
   "cell_type": "code",
   "execution_count": 4,
   "metadata": {},
   "outputs": [],
   "source": [
    "#Reshaping in Conventional Form\n",
    "train_x=train_x.T\n",
    "test_x=test_x.T\n",
    "train_y=train_y.reshape(1,60000)\n",
    "test_y=test_y.reshape(1,10000)"
   ]
  },
  {
   "cell_type": "code",
   "execution_count": 5,
   "metadata": {},
   "outputs": [],
   "source": [
    "#Normalizing\n",
    "train_x=train_x/255\n",
    "test_x=test_x/255"
   ]
  },
  {
   "cell_type": "code",
   "execution_count": 6,
   "metadata": {},
   "outputs": [],
   "source": [
    "X=train_x\n",
    "y=train_y"
   ]
  },
  {
   "cell_type": "markdown",
   "metadata": {},
   "source": [
    "OneHot Encoding for Labels"
   ]
  },
  {
   "cell_type": "code",
   "execution_count": 8,
   "metadata": {},
   "outputs": [],
   "source": [
    "digits = 10 # No. of Classes\n",
    "m=60000 #Training Instances\n",
    "\n",
    "Y_new = np.eye(digits)[y.astype('int32')]\n",
    "Y_new = Y_new.T.reshape(digits,m)\n",
    "Y_test = np.eye(digits)[test_y.astype('int32')]\n",
    "Y_test = Y_test.T.reshape(digits,10000)"
   ]
  },
  {
   "cell_type": "markdown",
   "metadata": {},
   "source": [
    "Sigmoid Functon:"
   ]
  },
  {
   "cell_type": "code",
   "execution_count": 9,
   "metadata": {},
   "outputs": [],
   "source": [
    "def sigmoid(z):\n",
    "    s = 1 / (1 + np.exp(-z))\n",
    "    return s"
   ]
  },
  {
   "cell_type": "markdown",
   "metadata": {},
   "source": [
    "Cost Function for Multiclass:\n",
    "\n",
    "L(y,ŷ) = −$∑^{n}_{i=0}$$y_{i}$log(ŷi)"
   ]
  },
  {
   "cell_type": "code",
   "execution_count": 10,
   "metadata": {},
   "outputs": [],
   "source": [
    "def compute_multiclass_loss(Y, Y_hat):\n",
    "\n",
    "    L_sum = np.sum(np.multiply(Y, np.log(Y_hat)))\n",
    "    m = Y.shape[1]\n",
    "    L = -(1/m) * L_sum\n",
    "\n",
    "    return L"
   ]
  },
  {
   "cell_type": "markdown",
   "metadata": {},
   "source": [
    "Building NN:"
   ]
  },
  {
   "cell_type": "code",
   "execution_count": 11,
   "metadata": {},
   "outputs": [
    {
     "name": "stdout",
     "output_type": "stream",
     "text": [
      "Epoch 0 cost:  11.529319896349692\n",
      "Epoch 100 cost:  6.265106898260446\n",
      "Epoch 200 cost:  4.61342442837396\n",
      "Epoch 300 cost:  4.024388119476614\n",
      "Epoch 400 cost:  3.67585483414976\n",
      "Epoch 500 cost:  3.391671570527805\n",
      "Epoch 600 cost:  3.1460399422009364\n",
      "Epoch 700 cost:  2.931653377692734\n",
      "Epoch 800 cost:  2.7438029277874\n",
      "Epoch 900 cost:  2.578678016261339\n",
      "Epoch 1000 cost:  2.4330622891611826\n",
      "Epoch 1100 cost:  2.3042152460984147\n",
      "Epoch 1200 cost:  2.1897950560758668\n",
      "Epoch 1300 cost:  2.0877984063994544\n",
      "Epoch 1400 cost:  1.996513297574221\n",
      "Epoch 1500 cost:  1.914480076993246\n",
      "Epoch 1600 cost:  1.8404577526345134\n",
      "Epoch 1700 cost:  1.7733934958622055\n",
      "Epoch 1800 cost:  1.7123949212497953\n",
      "Epoch 1900 cost:  1.6567051254957428\n",
      "Final cost: 1.606169744221766\n"
     ]
    }
   ],
   "source": [
    "n_x = X.shape[0]\n",
    "n_h = 64\n",
    "n_y=10\n",
    "learning_rate = 0.01\n",
    "\n",
    "W1 = np.random.randn(n_h, n_x)\n",
    "b1 = np.zeros((n_h, 1))\n",
    "W2 = np.random.randn(n_y, n_h)\n",
    "b2 = np.zeros((n_y, 1))\n",
    "\n",
    "\n",
    "X = X\n",
    "Y = Y_new\n",
    "\n",
    "for i in range(2000):\n",
    "    ##Forward Prop\n",
    "    Z1 = np.dot(W1,X) + b1\n",
    "    A1 = sigmoid(Z1)\n",
    "    Z2 = np.dot(W2,A1) + b2\n",
    "    A2 = np.exp(Z2) / np.sum(np.exp(Z2), axis=0)\n",
    "\n",
    "    cost = compute_multiclass_loss(Y, A2)\n",
    "    ##Back Prop\n",
    "    dZ2 = A2-Y\n",
    "    dW2 = (1./m) * np.dot(dZ2, A1.T)\n",
    "    db2 = (1./m) * np.sum(dZ2, axis=1, keepdims=True)\n",
    "\n",
    "    dA1 = np.dot(W2.T, dZ2)\n",
    "    dZ1 = dA1 * sigmoid(Z1) * (1 - sigmoid(Z1))\n",
    "    dW1 = (1./m) * np.dot(dZ1, X.T)\n",
    "    db1 = (1./m) * np.sum(dZ1, axis=1, keepdims=True)\n",
    "    ##Updating Params\n",
    "    W2 = W2 - learning_rate * dW2\n",
    "    b2 = b2 - learning_rate * db2\n",
    "    W1 = W1 - learning_rate * dW1\n",
    "    b1 = b1 - learning_rate * db1\n",
    "\n",
    "    if (i % 100 == 0):\n",
    "        print(\"Epoch\", i, \"cost: \", cost)\n",
    "\n",
    "print(\"Final cost:\", cost)"
   ]
  },
  {
   "cell_type": "markdown",
   "metadata": {},
   "source": [
    "Validation:"
   ]
  },
  {
   "cell_type": "code",
   "execution_count": 12,
   "metadata": {},
   "outputs": [],
   "source": [
    "from sklearn.metrics import classification_report, confusion_matrix"
   ]
  },
  {
   "cell_type": "code",
   "execution_count": 16,
   "metadata": {},
   "outputs": [],
   "source": [
    "Z1 = np.dot(W1, test_x) + b1\n",
    "A1 = sigmoid(Z1)\n",
    "Z2 = np.dot(W2, A1) + b2\n",
    "A2 = np.exp(Z2) / np.sum(np.exp(Z2), axis=0)\n",
    "\n",
    "predictions = np.argmax(A2, axis=0)\n",
    "labels = np.argmax(Y_test, axis=0)"
   ]
  },
  {
   "cell_type": "code",
   "execution_count": 17,
   "metadata": {},
   "outputs": [
    {
     "name": "stdout",
     "output_type": "stream",
     "text": [
      "[[702   3  57  48   7  80  58  16  47  23]\n",
      " [  5 974  56  30  27  38  21  15  61   6]\n",
      " [ 29  20 384  51  57  23  71  96 113  69]\n",
      " [ 21  40 152 458  18 175  61  15  68  24]\n",
      " [ 11   9  45  10 482  35  63  64  24 230]\n",
      " [ 77  29  40 167  39 301  42  27  66  54]\n",
      " [ 54   1  94  75  56  67 564  11  74  14]\n",
      " [ 29   4  35  78  60  63  24 585  82 147]\n",
      " [ 34  48 133  69  36  65  21  33 400  94]\n",
      " [ 18   7  36  24 200  45  33 166  39 348]]\n"
     ]
    }
   ],
   "source": [
    "print(confusion_matrix(predictions, labels))"
   ]
  },
  {
   "cell_type": "code",
   "execution_count": 18,
   "metadata": {},
   "outputs": [
    {
     "name": "stdout",
     "output_type": "stream",
     "text": [
      "              precision    recall  f1-score   support\n",
      "\n",
      "           0       0.72      0.67      0.69      1041\n",
      "           1       0.86      0.79      0.82      1233\n",
      "           2       0.37      0.42      0.39       913\n",
      "           3       0.45      0.44      0.45      1032\n",
      "           4       0.49      0.50      0.49       973\n",
      "           5       0.34      0.36      0.35       842\n",
      "           6       0.59      0.56      0.57      1010\n",
      "           7       0.57      0.53      0.55      1107\n",
      "           8       0.41      0.43      0.42       933\n",
      "           9       0.34      0.38      0.36       916\n",
      "\n",
      "   micro avg       0.52      0.52      0.52     10000\n",
      "   macro avg       0.51      0.51      0.51     10000\n",
      "weighted avg       0.53      0.52      0.52     10000\n",
      "\n"
     ]
    }
   ],
   "source": [
    "print(classification_report(predictions, labels))"
   ]
  },
  {
   "cell_type": "code",
   "execution_count": null,
   "metadata": {},
   "outputs": [],
   "source": []
  }
 ],
 "metadata": {
  "kernelspec": {
   "display_name": "Python 3",
   "language": "python",
   "name": "python3"
  },
  "language_info": {
   "codemirror_mode": {
    "name": "ipython",
    "version": 3
   },
   "file_extension": ".py",
   "mimetype": "text/x-python",
   "name": "python",
   "nbconvert_exporter": "python",
   "pygments_lexer": "ipython3",
   "version": "3.7.3"
  }
 },
 "nbformat": 4,
 "nbformat_minor": 2
}
